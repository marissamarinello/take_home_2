{
  "nbformat": 4,
  "nbformat_minor": 0,
  "metadata": {
    "colab": {
      "name": "Week 6_Documenting data and version controlipynb",
      "version": "0.3.2",
      "provenance": [],
      "toc_visible": true,
      "include_colab_link": true
    },
    "kernelspec": {
      "name": "python3",
      "display_name": "Python 3"
    },
    "accelerator": "GPU"
  },
  "cells": [
    {
      "cell_type": "markdown",
      "metadata": {
        "id": "view-in-github",
        "colab_type": "text"
      },
      "source": [
        "<a href=\"https://colab.research.google.com/github/marissamarinello/take_home_2/blob/master/Week_6_Documenting_data_and_version_controlipynb.ipynb\" target=\"_parent\"><img src=\"https://colab.research.google.com/assets/colab-badge.svg\" alt=\"Open In Colab\"/></a>"
      ]
    },
    {
      "metadata": {
        "id": "Rjbgd1igFSnu",
        "colab_type": "text"
      },
      "cell_type": "markdown",
      "source": [
        "### Learning objectives\n",
        "* Introduction to GitHub\n",
        "* Managing and sharing on GitHub\n",
        "* Pull, Add, Commit functions on GitHub\n",
        "* Using Colab with GitHub\n",
        "\n",
        "**To-do List**\n",
        "1. Fmiliarize with bing\n",
        "2. Find a key for bing using microsoft account"
      ]
    },
    {
      "metadata": {
        "id": "BxyVVbP2nVSP",
        "colab_type": "text"
      },
      "cell_type": "markdown",
      "source": [
        "#Introduction to Git\n",
        "\n",
        "* A distributed version control system\n",
        "* Easy to learn\n",
        "* Useful for updates document sharing\n",
        "\n",
        "Download Git for terminal from [here](https://git-scm.com/downloads)\n",
        "  * Downlaods available for Mac OS X, Windows and Unix/Linux\n",
        "  * Follow ReadMe file provided with the downloads for installation instructions\n",
        "\n",
        "Check the successful Installation:\n",
        "  * Write \"Git\" in your terminal, and make sure it generates no error"
      ]
    },
    {
      "metadata": {
        "id": "ndw3WIjwwAol",
        "colab_type": "code",
        "outputId": "4a8e5d23-6a8a-44ca-daa2-ec5a4931544c",
        "colab": {
          "base_uri": "https://localhost:8080/",
          "height": 731
        }
      },
      "cell_type": "code",
      "source": [
        "!git"
      ],
      "execution_count": 0,
      "outputs": [
        {
          "output_type": "stream",
          "text": [
            "usage: git [--version] [--help] [-C <path>] [-c <name>=<value>]\n",
            "           [--exec-path[=<path>]] [--html-path] [--man-path] [--info-path]\n",
            "           [-p | --paginate | --no-pager] [--no-replace-objects] [--bare]\n",
            "           [--git-dir=<path>] [--work-tree=<path>] [--namespace=<name>]\n",
            "           <command> [<args>]\n",
            "\n",
            "These are common Git commands used in various situations:\n",
            "\n",
            "start a working area (see also: git help tutorial)\n",
            "   clone      Clone a repository into a new directory\n",
            "   init       Create an empty Git repository or reinitialize an existing one\n",
            "\n",
            "work on the current change (see also: git help everyday)\n",
            "   add        Add file contents to the index\n",
            "   mv         Move or rename a file, a directory, or a symlink\n",
            "   reset      Reset current HEAD to the specified state\n",
            "   rm         Remove files from the working tree and from the index\n",
            "\n",
            "examine the history and state (see also: git help revisions)\n",
            "   bisect     Use binary search to find the commit that introduced a bug\n",
            "   grep       Print lines matching a pattern\n",
            "   log        Show commit logs\n",
            "   show       Show various types of objects\n",
            "   status     Show the working tree status\n",
            "\n",
            "grow, mark and tweak your common history\n",
            "   branch     List, create, or delete branches\n",
            "   checkout   Switch branches or restore working tree files\n",
            "   commit     Record changes to the repository\n",
            "   diff       Show changes between commits, commit and working tree, etc\n",
            "   merge      Join two or more development histories together\n",
            "   rebase     Reapply commits on top of another base tip\n",
            "   tag        Create, list, delete or verify a tag object signed with GPG\n",
            "\n",
            "collaborate (see also: git help workflows)\n",
            "   fetch      Download objects and refs from another repository\n",
            "   pull       Fetch from and integrate with another repository or a local branch\n",
            "   push       Update remote refs along with associated objects\n",
            "\n",
            "'git help -a' and 'git help -g' list available subcommands and some\n",
            "concept guides. See 'git help <command>' or 'git help <concept>'\n",
            "to read about a specific subcommand or concept.\n"
          ],
          "name": "stdout"
        }
      ]
    },
    {
      "metadata": {
        "id": "VM0z4CWXXh0r",
        "colab_type": "text"
      },
      "cell_type": "markdown",
      "source": [
        "##Creating a repository on GitHub\n",
        "\n",
        "* **Start a project** on [GitHub](https://github.com/)\n",
        "* Assign a name to your project e.g. THA2\n",
        "* Click **create repository** "
      ]
    },
    {
      "metadata": {
        "id": "IrJ_h_YLZNah",
        "colab_type": "text"
      },
      "cell_type": "markdown",
      "source": [
        "##In-class activity 1\n",
        "\n",
        "* Create your own empty repository on your github\n",
        "* Try to create a repository that you can use for the submission of Take Home Assignment 2"
      ]
    },
    {
      "metadata": {
        "id": "2SwWbEFVpZEs",
        "colab_type": "text"
      },
      "cell_type": "markdown",
      "source": [
        "##Creating an empty repository\n",
        "\n",
        "* [Init](https://git-scm.com/docs/git-init) initializes a new git repository\n",
        "* Configure to the path you want to make repository to\n",
        "* **Git init** creates an emoy repository in the folder .git\n",
        "* Parameters can be provided to customize the repository"
      ]
    },
    {
      "metadata": {
        "id": "ls5ie-jFbkWS",
        "colab_type": "code",
        "colab": {}
      },
      "cell_type": "code",
      "source": [
        "mkdir test_tha2"
      ],
      "execution_count": 0,
      "outputs": []
    },
    {
      "metadata": {
        "id": "1sDXKuwQbn4P",
        "colab_type": "code",
        "outputId": "974b9ebd-a488-49b7-a780-4f9c70e47ad2",
        "colab": {
          "base_uri": "https://localhost:8080/",
          "height": 34
        }
      },
      "cell_type": "code",
      "source": [
        "cd test_tha2"
      ],
      "execution_count": 0,
      "outputs": [
        {
          "output_type": "stream",
          "text": [
            "/content/test_tha2\n"
          ],
          "name": "stdout"
        }
      ]
    },
    {
      "metadata": {
        "id": "gPlOGE2lvjCf",
        "colab_type": "code",
        "outputId": "1b0e81ad-1698-4a2b-9616-5a513d336669",
        "colab": {
          "base_uri": "https://localhost:8080/",
          "height": 51
        }
      },
      "cell_type": "code",
      "source": [
        "!pwd\n",
        "!cd ~/\n",
        "\n",
        "#create an empty repo\n",
        "#!git init\n",
        "\n",
        "#Check the present working directory\n",
        "!pwd\n",
        "\n",
        "#Check the content of the directory\n",
        "#!ls -a\n"
      ],
      "execution_count": 0,
      "outputs": [
        {
          "output_type": "stream",
          "text": [
            "/content/test_tha2\n",
            "/content/test_tha2\n"
          ],
          "name": "stdout"
        }
      ]
    },
    {
      "metadata": {
        "id": "N_v-SbmXbvca",
        "colab_type": "code",
        "outputId": "012d3246-8fbd-4337-f77a-fc5226736055",
        "colab": {
          "base_uri": "https://localhost:8080/",
          "height": 34
        }
      },
      "cell_type": "code",
      "source": [
        "!git init"
      ],
      "execution_count": 0,
      "outputs": [
        {
          "output_type": "stream",
          "text": [
            "Initialized empty Git repository in /content/test_tha2/.git/\n"
          ],
          "name": "stdout"
        }
      ]
    },
    {
      "metadata": {
        "id": "DHrCIOR4rBOT",
        "colab_type": "text"
      },
      "cell_type": "markdown",
      "source": [
        "##Cloning a repository\n",
        "\n",
        "* [Cloning](https://git-scm.com/docs/git-clone) indicates retrieving an existing repository to a new directory\n",
        "* Can be done for repository on local machine or on GitHub\n",
        "* **Git clone \"path/to/dir\" or \"link/to/dir\"** clones the directory\n",
        "* While cloning from server: Must be shared for authentication concerns"
      ]
    },
    {
      "metadata": {
        "id": "kvlgrYtZb11V",
        "colab_type": "code",
        "outputId": "5debdc42-c661-46fe-c67a-27b6665628a6",
        "colab": {
          "base_uri": "https://localhost:8080/",
          "height": 34
        }
      },
      "cell_type": "code",
      "source": [
        "cd .."
      ],
      "execution_count": 0,
      "outputs": [
        {
          "output_type": "stream",
          "text": [
            "/content\n"
          ],
          "name": "stdout"
        }
      ]
    },
    {
      "metadata": {
        "id": "mTsxcIwjwG3L",
        "colab_type": "code",
        "outputId": "b0541576-29d1-44f3-fb0f-0f56ed7534eb",
        "colab": {
          "base_uri": "https://localhost:8080/",
          "height": 51
        }
      },
      "cell_type": "code",
      "source": [
        "#Cloning a repository\n",
        "!git clone \"https://github.com/IshaKanani/THA2\""
      ],
      "execution_count": 0,
      "outputs": [
        {
          "output_type": "stream",
          "text": [
            "Cloning into 'THA2'...\n",
            "warning: You appear to have cloned an empty repository.\n"
          ],
          "name": "stdout"
        }
      ]
    },
    {
      "metadata": {
        "id": "cc-31SjNLpi5",
        "colab_type": "code",
        "outputId": "a3dfe54a-b32f-446b-b3c0-aa86fec78378",
        "colab": {
          "base_uri": "https://localhost:8080/",
          "height": 34
        }
      },
      "cell_type": "code",
      "source": [
        "#Checking whether cloned repo is added\n",
        "!ls -a"
      ],
      "execution_count": 0,
      "outputs": [
        {
          "output_type": "stream",
          "text": [
            ".  ..  .config\tsample_data  THA2\n"
          ],
          "name": "stdout"
        }
      ]
    },
    {
      "metadata": {
        "id": "ACs8Ww-FPlhk",
        "colab_type": "code",
        "outputId": "3ae65b7a-e427-405d-8f36-a42d94cfda3c",
        "colab": {
          "base_uri": "https://localhost:8080/",
          "height": 34
        }
      },
      "cell_type": "code",
      "source": [
        "#renaming a repository at the time of cloning\n",
        "\n",
        "#1. removing the existing one\n",
        "!rm THA2"
      ],
      "execution_count": 0,
      "outputs": [
        {
          "output_type": "stream",
          "text": [
            "rm: cannot remove 'THA2': Is a directory\n"
          ],
          "name": "stdout"
        }
      ]
    },
    {
      "metadata": {
        "id": "T08e88vmP2na",
        "colab_type": "code",
        "colab": {}
      },
      "cell_type": "code",
      "source": [
        "rm -r THA2\n"
      ],
      "execution_count": 0,
      "outputs": []
    },
    {
      "metadata": {
        "id": "pf3ht2vgQAm7",
        "colab_type": "code",
        "outputId": "93bb4059-161d-4753-ab11-87b5b304fde4",
        "colab": {
          "base_uri": "https://localhost:8080/",
          "height": 68
        }
      },
      "cell_type": "code",
      "source": [
        "#2. Cloning the repo\n",
        "!git clone \"https://github.com/IshaKanani/THA2\" assignment2\n",
        "!ls -a"
      ],
      "execution_count": 0,
      "outputs": [
        {
          "output_type": "stream",
          "text": [
            "Cloning into 'assignment2'...\n",
            "warning: You appear to have cloned an empty repository.\n",
            ".  ..  assignment2  .config  sample_data  test_tha2\n"
          ],
          "name": "stdout"
        }
      ]
    },
    {
      "metadata": {
        "id": "bkh9FtptQMZV",
        "colab_type": "code",
        "outputId": "1b2e703d-9814-4b7c-b3d2-faa2c7315f53",
        "colab": {
          "base_uri": "https://localhost:8080/",
          "height": 51
        }
      },
      "cell_type": "code",
      "source": [
        "#We will now move into the cloned ditrectory to add content\n",
        "!cd assigment2\n",
        "!ls -a"
      ],
      "execution_count": 0,
      "outputs": [
        {
          "output_type": "stream",
          "text": [
            "/bin/bash: line 0: cd: assigment2: No such file or directory\n",
            ".  ..  assignment2  .config  sample_data\n"
          ],
          "name": "stdout"
        }
      ]
    },
    {
      "metadata": {
        "id": "yqXBSOMlY7Xy",
        "colab_type": "code",
        "outputId": "108ba777-e6ad-425b-9af4-b2594416c760",
        "colab": {
          "base_uri": "https://localhost:8080/",
          "height": 34
        }
      },
      "cell_type": "code",
      "source": [
        "cd assignment2"
      ],
      "execution_count": 0,
      "outputs": [
        {
          "output_type": "stream",
          "text": [
            "/content/assignment2\n"
          ],
          "name": "stdout"
        }
      ]
    },
    {
      "metadata": {
        "id": "Oi57XAGYY-aJ",
        "colab_type": "code",
        "outputId": "5e3f67ce-432b-42d3-fff6-d7210c9d0832",
        "colab": {
          "base_uri": "https://localhost:8080/",
          "height": 34
        }
      },
      "cell_type": "code",
      "source": [
        "ls -a"
      ],
      "execution_count": 0,
      "outputs": [
        {
          "output_type": "stream",
          "text": [
            "\u001b[0m\u001b[01;34m.\u001b[0m/  \u001b[01;34m..\u001b[0m/  \u001b[01;34m.git\u001b[0m/\n"
          ],
          "name": "stdout"
        }
      ]
    },
    {
      "metadata": {
        "id": "qr9FuS1UZgcE",
        "colab_type": "text"
      },
      "cell_type": "markdown",
      "source": [
        "##In-class Activity 2\n",
        "\n",
        "* Clone the repository you created in the previous activity\n",
        "* Use commands **cd**, **pwd** and **ls -a** to validate the cloned repository "
      ]
    },
    {
      "metadata": {
        "id": "1asJ9jc0uAEc",
        "colab_type": "text"
      },
      "cell_type": "markdown",
      "source": [
        "##Adding content to a repository\n",
        "\n",
        "* The repo does not get updates unless you specifically ask for it\n",
        "* **Important to add** to update the repo: Refer to [add](https://git-scm.com/docs/git-add)\n",
        "* **Git-add** saves the current version of directory\n",
        "* A must step **before commit**\n"
      ]
    },
    {
      "metadata": {
        "id": "jLhB9Zfwb-GO",
        "colab_type": "code",
        "outputId": "cf817c87-027c-422c-bfd6-ae30c339a460",
        "colab": {
          "base_uri": "https://localhost:8080/",
          "height": 34
        }
      },
      "cell_type": "code",
      "source": [
        "cd test_tha2"
      ],
      "execution_count": 0,
      "outputs": [
        {
          "output_type": "stream",
          "text": [
            "/content/test_tha2\n"
          ],
          "name": "stdout"
        }
      ]
    },
    {
      "metadata": {
        "id": "-VOXqPrSQXxI",
        "colab_type": "code",
        "outputId": "6f30cc88-8e04-44bb-919f-feece6da3b91",
        "colab": {
          "base_uri": "https://localhost:8080/",
          "height": 34
        }
      },
      "cell_type": "code",
      "source": [
        "!mkdir sample_dir\n",
        "!ls -a"
      ],
      "execution_count": 0,
      "outputs": [
        {
          "output_type": "stream",
          "text": [
            ".  ..  .git  sample_dir\n"
          ],
          "name": "stdout"
        }
      ]
    },
    {
      "metadata": {
        "id": "bWgqk3CkQg-l",
        "colab_type": "code",
        "colab": {}
      },
      "cell_type": "code",
      "source": [
        "!git add ."
      ],
      "execution_count": 0,
      "outputs": []
    },
    {
      "metadata": {
        "id": "qGFjGm8rusX5",
        "colab_type": "text"
      },
      "cell_type": "markdown",
      "source": [
        "## Commiting changes\n",
        "\n"
      ]
    },
    {
      "metadata": {
        "id": "XqicbNBBQl_p",
        "colab_type": "code",
        "outputId": "1f5f5d0c-1c4e-449e-fbac-3963460a2b3e",
        "colab": {
          "base_uri": "https://localhost:8080/",
          "height": 221
        }
      },
      "cell_type": "code",
      "source": [
        "!git commit -m \"added sample_dir\""
      ],
      "execution_count": 0,
      "outputs": [
        {
          "output_type": "stream",
          "text": [
            "\n",
            "*** Please tell me who you are.\n",
            "\n",
            "Run\n",
            "\n",
            "  git config --global user.email \"you@example.com\"\n",
            "  git config --global user.name \"Your Name\"\n",
            "\n",
            "to set your account's default identity.\n",
            "Omit --global to set the identity only in this repository.\n",
            "\n",
            "fatal: unable to auto-detect email address (got 'root@25cb018f3927.(none)')\n"
          ],
          "name": "stdout"
        }
      ]
    },
    {
      "metadata": {
        "id": "Ra46pt8vQrhb",
        "colab_type": "code",
        "colab": {}
      },
      "cell_type": "code",
      "source": [
        "!git config --global user.email \"ishadkanani@gmail.com\"\n",
        "!git config --global user.name \"IshaKanani\""
      ],
      "execution_count": 0,
      "outputs": []
    },
    {
      "metadata": {
        "id": "QU2JEcS2Q61D",
        "colab_type": "code",
        "outputId": "800271b6-6de6-4695-9c47-030faa7fbda1",
        "colab": {
          "base_uri": "https://localhost:8080/",
          "height": 68
        }
      },
      "cell_type": "code",
      "source": [
        "!git commit -m \"added a graph\""
      ],
      "execution_count": 0,
      "outputs": [
        {
          "output_type": "stream",
          "text": [
            "[master (root-commit) f265dac] added a graph\n",
            " 1 file changed, 132978 insertions(+)\n",
            " create mode 100644 test_donations.graphml\n"
          ],
          "name": "stdout"
        }
      ]
    },
    {
      "metadata": {
        "id": "GNxtyTEXaIN0",
        "colab_type": "text"
      },
      "cell_type": "markdown",
      "source": [
        "##Push: The final step to update the repository on GitHub\n",
        "\n",
        "* Once the changes have been commited, we [push](https://git-scm.com/docs/git-push) the chnages.\n",
        "* Push **finalizes** changes online"
      ]
    },
    {
      "metadata": {
        "id": "iMTwK1L1cHqN",
        "colab_type": "code",
        "outputId": "d49f04c8-3ad9-4601-90b8-581ce028bd8c",
        "colab": {
          "base_uri": "https://localhost:8080/",
          "height": 34
        }
      },
      "cell_type": "code",
      "source": [
        "pwd"
      ],
      "execution_count": 0,
      "outputs": [
        {
          "output_type": "execute_result",
          "data": {
            "text/plain": [
              "'/content/test_tha2'"
            ]
          },
          "metadata": {
            "tags": []
          },
          "execution_count": 14
        }
      ]
    },
    {
      "metadata": {
        "id": "UsJHcfwpVJm0",
        "colab_type": "code",
        "outputId": "974187d0-4e37-48a6-9d84-377372c90759",
        "colab": {
          "base_uri": "https://localhost:8080/",
          "height": 51
        }
      },
      "cell_type": "code",
      "source": [
        "!git remote add origin https://github.com/IshaKanani/THA2.git\n",
        "!git push origin master"
      ],
      "execution_count": 0,
      "outputs": [
        {
          "output_type": "stream",
          "text": [
            "fatal: remote origin already exists.\n",
            "fatal: could not read Username for 'https://github.com': No such device or address\n"
          ],
          "name": "stdout"
        }
      ]
    },
    {
      "metadata": {
        "id": "iqHJjB_cSAtA",
        "colab_type": "text"
      },
      "cell_type": "markdown",
      "source": [
        "##Pull: Updating the local directory\n",
        "\n",
        "* Since the repository is shared, multiple people might have pushed commits\n",
        "* Make sure you work with the most recent directory\n",
        "* If not, commit might have errors"
      ]
    },
    {
      "metadata": {
        "id": "knWi0esmSjUq",
        "colab_type": "code",
        "outputId": "4d4acb04-eb6a-4aef-f7a0-9cb546105d01",
        "colab": {
          "base_uri": "https://localhost:8080/",
          "height": 34
        }
      },
      "cell_type": "code",
      "source": [
        "!git pull"
      ],
      "execution_count": 0,
      "outputs": [
        {
          "output_type": "stream",
          "text": [
            "Already up to date.\n"
          ],
          "name": "stdout"
        }
      ]
    },
    {
      "metadata": {
        "id": "BbeSS77Qvlef",
        "colab_type": "text"
      },
      "cell_type": "markdown",
      "source": [
        "#Introduction to Github on Colab\n",
        "\n",
        "* Google colab is designed to get smoothely integrated with github\n",
        "* One can easily load github files to colab and vice versa\n"
      ]
    },
    {
      "metadata": {
        "id": "FlBf7h3Xv4uc",
        "colab_type": "text"
      },
      "cell_type": "markdown",
      "source": [
        "##Loading a file from github to colab\n",
        "\n",
        "* Go to the link: https://github.com/IshaKanani/-datasciencecoursera/blob/master/Week_6_Documenting_data_and_version_controlipynb.ipynb\n",
        "* \"Open in Colab\" option is provided, clikcing which will open the file in google colab\n"
      ]
    },
    {
      "metadata": {
        "id": "NTFKOFNPwQHL",
        "colab_type": "text"
      },
      "cell_type": "markdown",
      "source": [
        "##Chrome extension\n",
        "\n",
        "* Chrome provides it's [ Open in colab extension](https://chrome.google.com/webstore/detail/open-in-colab/iogfkhleblhcpcekbiedikdehleodpjo), by installing which, one can always get the option of opening any notebook in colab"
      ]
    },
    {
      "metadata": {
        "id": "dMO1yzmIxB2s",
        "colab_type": "text"
      },
      "cell_type": "markdown",
      "source": [
        "##Searching github through colab\n",
        "\n",
        "* One can search the github repos on colab by using [this link](https://colab.research.google.com/github/)\n",
        "* The link provides easy search of any files by the file name, or by the user or organziation name\n",
        "* It would return all the available files on github, and one can access the same in colab by clicking any options\n",
        "* One can also edit the link provided above by adding the user or organizaton name to directly access particular files\n",
        "* example: https://colab.research.google.com/github/ishakanani/\n",
        "* Access particular folders: https://colab.research.google.com/github/ishakanani/data_mgmt_rsch_lifecycle\n"
      ]
    },
    {
      "metadata": {
        "id": "2UDLJK_Fx62n",
        "colab_type": "text"
      },
      "cell_type": "markdown",
      "source": [
        "##Saving a colab notebook to your github\n",
        "\n",
        "1. Go to File --> Save a copy in GitHub...\n",
        "2. Connect your GitHub account to colab\n",
        "3. Choose the repository to save the notebook to or make a new one\n",
        "4. Choose the settings: Public or Private"
      ]
    },
    {
      "metadata": {
        "id": "Sk330guswnhg",
        "colab_type": "text"
      },
      "cell_type": "markdown",
      "source": [
        ""
      ]
    },
    {
      "metadata": {
        "id": "jc8q0xYSvYzl",
        "colab_type": "text"
      },
      "cell_type": "markdown",
      "source": [
        "#Resources:\n",
        "\n",
        "[colab-github](https://colab.research.google.com/github/googlecolab/colabtools/blob/master/notebooks/colab-github-demo.ipynb)\n",
        "\n",
        "[Git commands](https://git-scm.com/docs)"
      ]
    }
  ]
}