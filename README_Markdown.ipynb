{
  "nbformat": 4,
  "nbformat_minor": 0,
  "metadata": {
    "colab": {
      "name": "README_Markdown.ipynb",
      "version": "0.3.2",
      "provenance": []
    },
    "kernelspec": {
      "name": "python3",
      "display_name": "Python 3"
    }
  },
  "cells": [
    {
      "metadata": {
        "id": "T5NEl86oJd8d",
        "colab_type": "text"
      },
      "cell_type": "markdown",
      "source": [
        "#Information About This Folder:\n",
        "\n",
        "* This folder contains a Colab notebok with code for reading files in pandas, extracting specific columns and observations, listing headings, creating new dataframes, and merging data.\n",
        "\n",
        "* A discription of each data source is provided in this README.\n",
        "\n",
        "* Links are provided to access the CSV and Excel files used for each source. \n",
        "\n",
        "##About data sources:\n",
        "The following data is from three different sources: the Human Development Index from the United Nations, the World Values Survey, and the World Bank. This data is accessible online via the links and directions provided.\n",
        "\n",
        "##HDI\n",
        "The Human Development Index data is compiled ever year and ranks countries from around the world. Countries area assessed on the main demensions of health, knowledge, and standard of living. There are multiple subcategories within each category to better asses each country. Countries that have a HDI score closer to 1 means they are more developed. Countries are categorized by score in the broad categories of \"Very High Human Development,\" \"High Human Development,\" \"Medium Human Development,\" and \"Low Human Development.\" \n",
        "\n",
        "The data used in the colab notebook is from the complete HDI 2018 data, and Jordan for 2018\n",
        "\n",
        "* **A composite of all HDI 2018 scores/data is found [here](http://hdr.undp.org/en/composite/HDI).**\n",
        "\n",
        "\n",
        "* **Jordan data is found [here](http://hdr.undp.org/en/countries/profiles/JOR).**\n",
        "\n",
        "* All of the data provided is in CSV form. \n",
        "\n",
        "\n",
        "##World Values Survey\n",
        "The World Values Survey asks individuals questions that assess the state of a given country from a more socio-cultural perspective that represents the actual sentiments of the population towards a given topic. The questions vary some from year to year, but a record of the questions asked is provided. \n",
        "\n",
        "Data is collected over time in a series of waves. As such, this data will likely be used in research to analyze changes over time. \n",
        "\n",
        "Data for Jordan is analyzed in the most recent wave, Wave 6 which is from 2010-2014 and comes has data for Jordan for 2014. Also used is data from Wave 5 which is 2005-2009 and has Jordan data for 2007.\n",
        "\n",
        "*Important Notes:* The links will take you to the WVS page. On the left hand side, you will be prompted to select a country. \n",
        "* Type in \"Jordan\" in the search box, and when you see it appear click it rather than pressing enter. \n",
        "* Once you are on the Jordan profile page, scroll to the bottom and the different data sets are provided. \n",
        "* The data set used in the code notebook is the first one listed that has \"text_text\" in the title. \n",
        "* These are excel files.\n",
        "\n",
        "**Wave 6 data is available [here](http://www.worldvaluessurvey.org/WVSDocumentationWV6.jsp).**\n",
        "\n",
        "**Wave 5 data is available [here](http://www.worldvaluessurvey.org/WVSDocumentationWV5.jsp).**\n",
        "\n",
        "\n",
        "*Data from the Human Development Index and the World Values Survey is particularly useful because it is gathered over time, and generally utilizes the same variables - so they are excellent for tracking changes in a population over time.*\n",
        "\n",
        "##World Bank\n",
        "\n",
        "The World Bank provides data on their poverty headcount ration (% of population) for 2011. Each country is listed along with its region and its income level. This is of use to see how levels of income correlate with the above HDI and WVS data. \n",
        "\n",
        "**The data can be downloaded [here](https://data.worldbank.org/indicator/SI.POV.DDAY?end=2015&locations=1W&name_desc=false&start=1981&view=chart).**\n",
        "\n",
        "*Important Note:* The data set used the CSV file. It will download in a zip file. \n",
        "* Select the file that in the zip folder titled \"Metadata_Country_API_SI.POV.DDAY_DS2_en_csv_v2_10474275.csv\" \n",
        "* Rename it as \"WorldBank\".\n",
        "\n",
        "\n",
        "\n"
      ]
    },
    {
      "metadata": {
        "id": "Y8kcwCKjJXkk",
        "colab_type": "code",
        "colab": {}
      },
      "cell_type": "code",
      "source": [
        ""
      ],
      "execution_count": 0,
      "outputs": []
    }
  ]
}