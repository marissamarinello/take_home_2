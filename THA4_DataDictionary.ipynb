{
  "nbformat": 4,
  "nbformat_minor": 0,
  "metadata": {
    "colab": {
      "name": "THA4_DataDictionary.ipynb",
      "version": "0.3.2",
      "provenance": []
    },
    "kernelspec": {
      "name": "python3",
      "display_name": "Python 3"
    }
  },
  "cells": [
    {
      "metadata": {
        "id": "RFHSbHaGBLcq",
        "colab_type": "text"
      },
      "cell_type": "markdown",
      "source": [
        "## Data Dictionary\n",
        "\n",
        "### INSCR\n",
        "The final INSCR dataframe shows the scores given to Syria for the years of the ongoing conflict. \n",
        "\n",
        "**Country:**\n",
        "> This column identifies the year of the conflict \n",
        "\n",
        "**ethwar:**\n",
        "> This column contains the score given for the magnitude of the ethnic war on Syria.\n",
        "\n",
        "**civtotal:**\n",
        "> This is the sum score of civil war magnitude.\n",
        "\n",
        "**actotal:**\n",
        ">This is the summed magnitude of all societal major episodes of political violence. \n",
        "\n",
        "### ACLED\n",
        "The final ACLED table, \"violent events grouped by year,\" shows the value counts for each type of violent event that happened in a given year. \n",
        "\n",
        "**Year:**\n",
        "> This is the year the event took place.\n",
        "\n",
        "**event_type:**\n",
        "> There are three categories of events here:\n",
        "\n",
        "> 1) Battles: \"Violent interactions between two organized groups\"\n",
        "\n",
        "> 2) Explosions/Remote violence: \"One-sided violent events in which the tool for engaging in conflict creates asymmetry by taking away the ability of the target to respond\"\n",
        "\n",
        "> 3) Violence against civilians: \"violent events where an organized armed group deliverately inflicts violence upon unarmed non-combatants\"\n",
        "\n",
        "## Global Fragility Tracker\n",
        "The final Global Fragility data table, after \"Cleaning Global Fragility data,\" shows the composite scores for Syria in each of the four categories measured by the project. \n",
        "\n",
        "**total fragility:**\n",
        "> Total fragility is a measure of the composite score for Syria across the 24 indicators. \n",
        "\n",
        "**relative_score:**\n",
        ">\n",
        "\n",
        "**total effectiveness:**\n",
        "> Effectiveness indicators measure the ability of a country to carry out public0sector institutions and practices.\n",
        "\n",
        "**total legitimacy:**\n",
        "> This is a measure of \"the degree of direct or inderect public support for government arrangements, officials, and practices\"\n",
        "\n",
        "\n",
        "### Syrian internal displacement\n",
        "This table shows the changes in internal displacement of the Syrian population in Syria.\n",
        "\n",
        "**Returned refugees:**\n",
        "> The number of returned refugees.\n",
        "\n",
        "**Internally displaced persons (IDPs):**\n",
        "> The number of internally displaced persons.\n",
        "\n",
        "**Returned IDPs:**\n",
        "> Internally displaced people who went back to their previous home.\n",
        "\n",
        "**Total Population:**\n",
        "> The sum of individuals per year across the three categories. \n"
      ]
    }
  ]
}